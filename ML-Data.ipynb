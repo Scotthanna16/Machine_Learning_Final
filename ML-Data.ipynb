{
 "cells": [
  {
   "cell_type": "code",
   "execution_count": 19,
   "id": "1b14d496",
   "metadata": {},
   "outputs": [],
   "source": [
    "obs=[\"bad\", \"sarcastic\", \"meh\", \"good\", \"great\"]\n",
    "states=[2, 1, 0, -1, -2]\n",
    "\n",
    "# W-club data\n",
    "\n",
    "W_scores=[[0,0,0,-1,0,0,0,0,0,  0,-1,0,0,0,1,0,0,0],\n",
    "          [0,1,0,-1,0,0,-1,1,0,  -1,-1,0,0,0,0,-1,0,1],\n",
    "          [1,1,-1,-1,0,0,-1,0,0,  0,0,0,1,0,1,-1,0,0],\n",
    "          [0,0,-1,-2,-1,0,-1,0,0,  -1,-1,0,0,0,0,-1,-1,0],\n",
    "          [1,1,0,0,0,1,0,0,0,  0,-1,0,1,2,0,1,0,1],\n",
    "          [2,0,0,-1,0,1,0,0,0,  0,1,0,0,2,0,-1,-1,0],\n",
    "          [0,1,0,-1,0,-1,0,0,0,  -1,-1,0,0,1,-1,0,0,0],\n",
    "          [1,1,0,-1,0,-1,0,0,0,   0,0,-1,0,0,1,1,0,1]]\n",
    "W_obs=[[\"good\",\"good\",\"good\",\"good\", \"meh\", \"sarcastic\", \"bad\", \"meh\", \"sarcastic\", \n",
    "        \"bad\", \"good\", \"good\", \"meh\", \"meh\", \"meh\", \"sarcastic\", \"meh\", \"meh\"],\n",
    "       [\"meh\",\"bad\",\"bad\",\"meh\",\"meh\",\"meh\",\"meh\",\"bad\",\"bad\",\n",
    "        \"meh\",\"good\",\"good\",\"good\",\"meh\",\"good\",\"good\",\"good\",\"bad\"],\n",
    "       [\"meh\", \"sarcastic\", \"meh\", \"good\",\"good\",\"good\",\"great\", \"great\", \"great\",\n",
    "        \"good\",\"good\",\"good\",\"good\",\"good\",\"sarcastic\",\"good\", \"good\", \"sarcastic\"],\n",
    "       [\"good\",\"good\",\"good\", \"great\", \"great\",\"great\", \"great\", \"good\", \"good\"\n",
    "       ,\"great\",\"great\",\"great\",\"great\",\"good\", \"good\", \"great\", \"great\", \"great\"],\n",
    "       [\"meh\",\"meh\",\"meh\",\"sarcastic\",\"meh\",\"bad\",\"bad\",\"meh\",\"meh\",\n",
    "        \"bad\",\"good\",\"good\",\"sarcastic\",\"bad\",\"bad\",\"bad\",\"bad\",\"bad\"],\n",
    "       [\"bad\",\"bad\",\"bad\",\"meh\",\"meh\",\"meh\",\"meh\",\"meh\",\"meh\",\n",
    "        \"meh\",\"bad\",\"meh\",\"meh\",\"bad\",\"bad\",\"meh\",\"meh\", \"meh\"],\n",
    "       [\"good\",\"bad\",\"meh\",\"bad\",\"meh\",\"good\",\"sarcastic\", \"meh\", \"bad\",\n",
    "        \"meh\",\"good\",\"sarcastic\", \"meh\",\"bad\",\"meh\",\"sarcastic\",\"meh\", \"meh\"],\n",
    "       [\"meh\",\"meh\",\"meh\",\"meh\",\"meh\",\"good\",\"good\",\"good\",\"good\",\n",
    "        \"sarcastic\",\"sarcastic\", \"good\",\"good\",\"good\",\"meh\",\"bad\",\"meh\",\"bad\"]\n",
    "      ]\n",
    "#2-rivs data\n",
    "rivs_scores=[[0,-1,0,0,0,-1,0,0,-1,  1,0,0,1,-1,0,-1,0,0],\n",
    "          [0,1,-1,0,0,-1,0,-1,-1,  0,0,0,0,0,1,-1,1,0], \n",
    "          [1,1,-1,1,0,0,0,1,-1,  0,0,0,1,-1,1,-1,1,0],\n",
    "          [0,0,-1,1,1,0,0,0,-1,  0,0,0,1,0,0,-1,1,0],    \n",
    "          [1,1,0,0,0,-1,0,1,0,  0,0,0,1,0,0,0,1,0], \n",
    "          [0,0,0,-1,0,0,0,-1,0,  0,0,1,1,1,1,-1,0,0],\n",
    "             \n",
    "          [0,0,0,1,0,-1,0,0,-1,  1,0,0,0,-1,0,-1,0,0],\n",
    "             \n",
    "          [-1,0,-1,0,0,-1,0,-1,-1,   1,1,1,1,2,0,-1,1,2]]\n",
    "\n",
    "rivs_obs=[[\"good\",\"great\",\"good\",\"good\", \"good\", \"good\", \"good\", \"sarcastic\", \"good\", \n",
    "        \"bad\", \"good\", \"good\", \"meh\", \"good\", \"good\", \"good\", \"good\", \"sarcastic\"],\n",
    "       [\"meh\",\"bad\",\"meh\",\"meh\",\"meh\",\"meh\",\"meh\",\"meh\",\"good\",\n",
    "        \"meh\",\"meh\",\"good\",\"good\",\"meh\",\"bad\",\"meh\",\"bad\",\"bad\"],\n",
    "       [\"meh\", \"sarcastic\", \"meh\", \"sarcastic\",\"meh\",\"sarcastic\",\"meh\", \"bad\", \"good\",\n",
    "        \"good\",\"good\",\"good\",\"sarcastic\",\"good\",\"sarcastic\",\"good\", \"bad\", \"meh\"],\n",
    "       [\"good\",\"good\",\"good\", \"good\", \"meh\",\"sarcastic\", \"meh\", \"bad\", \"good\"\n",
    "       ,\"meh\",\"meh\",\"meh\",\"meh\",\"sarcastic\", \"good\", \"great\", \"meh\", \"sarcastic\"],    \n",
    "       [\"meh\",\"meh\",\"meh\",\"meh\",\"meh\",\"good\",\"meh\",\"meh\",\"bad\",\n",
    "        \"meh\",\"meh\",\"meh\",\"sarcastic\",\"bad\",\"bad\",\"good\",\"bad\",\"meh\"],\n",
    "       [\"good\",\"good\",\"meh\",\"great\",\"good\",\"good\",\"good\",\"good\",\"meh\",\n",
    "        \"meh\",\"sarcastic\",\"bad\",\"bad\",\"bad\",\"bad\",\"meh\",\"meh\", \"meh\"],\n",
    "          \n",
    "       [\"meh\",\"meh\",\"bad\",\"bad\",\"bad\",\"meh\",\"sarcastic\", \"meh\", \"meh\",\n",
    "        \"bad\",\"meh\",\"meh\", \"meh\",\"good\",\"meh\",\"good\",\"good\", \"good\"],\n",
    "          \n",
    "       [\"good\",\"good\",\"good\",\"good\",\"good\",\"great\",\"great\",\"great\",\"great\",\n",
    "        \"good\",\"meh\", \"meh\",\"meh\",\"bad\",\"bad\",\"meh\",\"meh\",\"bad\"]]"
   ]
  },
  {
   "cell_type": "code",
   "execution_count": 20,
   "id": "e63dbb6a",
   "metadata": {},
   "outputs": [
    {
     "name": "stdout",
     "output_type": "stream",
     "text": [
      "{0: 0.5625, 1: 0.3125, 2: 0.0625, -1: 0.0625, -2: 0.0}\n"
     ]
    }
   ],
   "source": [
    "#finding start probabilities\n",
    "count_par=0\n",
    "count_bogey=0\n",
    "count_double=0\n",
    "count_bird=0\n",
    "count_eagle=0\n",
    "for i in range(0,8):\n",
    "    if(rivs_scores[i][0]==0):\n",
    "        count_par+=1\n",
    "    elif(rivs_scores[i][0]==1):\n",
    "        count_bogey+=1\n",
    "    elif(rivs_scores[i][0]==2):\n",
    "        count_double+=1\n",
    "    elif(rivs_scores[i][0]==-1):\n",
    "        count_bird+=1\n",
    "    else:\n",
    "        count_eagle+=1\n",
    "    \n",
    "    if(W_scores[i][0]==0):\n",
    "        count_par+=1\n",
    "    elif(W_scores[i][0]==1):\n",
    "        count_bogey+=1\n",
    "    elif(W_scores[i][0]==2):\n",
    "        count_double+=1\n",
    "    elif(W_scores[i][0]==-1):\n",
    "        count_bird+=1\n",
    "    else:\n",
    "        count_eagle+=1\n",
    "\n",
    "        \n",
    "start_p={0:count_par/16, 1:count_bogey/16, 2:count_double/16, -1:count_bird/16, -2:count_eagle/16}\n",
    "print(start_p)\n",
    "    \n",
    "    "
   ]
  },
  {
   "cell_type": "code",
   "execution_count": 21,
   "id": "7a030320",
   "metadata": {},
   "outputs": [
    {
     "name": "stdout",
     "output_type": "stream",
     "text": [
      "154\n",
      "52\n",
      "4\n",
      "61\n",
      "1\n",
      "All good\n"
     ]
    }
   ],
   "source": [
    "#find transition matrix\n",
    "count_par=0\n",
    "count_bogey=0\n",
    "count_double=0\n",
    "count_bird=0\n",
    "count_eagle=0\n",
    "#start by getting total number of every score not on last hole\n",
    "for i in range(0,8):\n",
    "    for j in range (0,17):\n",
    "        if(rivs_scores[i][j]==0):\n",
    "            count_par+=1\n",
    "        elif(rivs_scores[i][j]==1):\n",
    "            count_bogey+=1\n",
    "        elif(rivs_scores[i][j]==2):\n",
    "            count_double+=1\n",
    "        elif(rivs_scores[i][j]==-1):\n",
    "            count_bird+=1\n",
    "        else:\n",
    "            count_eagle+=1\n",
    "\n",
    "        if(W_scores[i][j]==0):\n",
    "            count_par+=1\n",
    "        elif(W_scores[i][j]==1):\n",
    "            count_bogey+=1\n",
    "        elif(W_scores[i][j]==2):\n",
    "            count_double+=1\n",
    "        elif(W_scores[i][j]==-1):\n",
    "            count_bird+=1\n",
    "        else:\n",
    "            count_eagle+=1\n",
    "\n",
    "\n",
    "#should sum to 272 (16 * 17)\n",
    "print(count_par)\n",
    "print(count_bogey)\n",
    "print(count_double)\n",
    "print(count_bird)\n",
    "print(count_eagle)\n",
    "if(count_par+count_bogey+count_double+count_bird+count_eagle ==272):\n",
    "    print(\"All good\")"
   ]
  },
  {
   "cell_type": "code",
   "execution_count": 22,
   "id": "7adadc79",
   "metadata": {},
   "outputs": [
    {
     "name": "stdout",
     "output_type": "stream",
     "text": [
      "87\n",
      "26\n",
      "1\n",
      "40\n",
      "0\n",
      "All good\n"
     ]
    }
   ],
   "source": [
    "#find transition probablities for par\n",
    "count_par=0\n",
    "count_bogey=0\n",
    "count_double=0\n",
    "count_bird=0\n",
    "count_eagle=0\n",
    "for i in range(0,8):\n",
    "    for j in range (0,17):\n",
    "        if(rivs_scores[i][j]==0):\n",
    "            if(rivs_scores[i][j+1]==0):\n",
    "                count_par+=1\n",
    "            elif(rivs_scores[i][j+1]==1):\n",
    "                count_bogey+=1\n",
    "            elif(rivs_scores[i][j+1]==2):\n",
    "                count_double+=1\n",
    "            elif(rivs_scores[i][j+1]==-1):\n",
    "                count_bird+=1\n",
    "            else:\n",
    "                count_eagle+=1\n",
    "                \n",
    "        if(W_scores[i][j]==0):\n",
    "            if(W_scores[i][j+1]==0):\n",
    "                count_par+=1\n",
    "            elif(W_scores[i][j+1]==1):\n",
    "                count_bogey+=1\n",
    "            elif(W_scores[i][j+1]==2):\n",
    "                count_double+=1\n",
    "            elif(W_scores[i][j+1]==-1):\n",
    "                count_bird+=1\n",
    "            else:\n",
    "                count_eagle+=1\n",
    "\n",
    "print(count_par)\n",
    "print(count_bogey)\n",
    "print(count_double)\n",
    "print(count_bird)\n",
    "print(count_eagle)\n",
    "if(count_par+count_bogey+count_double+count_bird+count_eagle ==154):\n",
    "    print(\"All good\")"
   ]
  },
  {
   "cell_type": "code",
   "execution_count": 23,
   "id": "41dadc56",
   "metadata": {},
   "outputs": [
    {
     "name": "stdout",
     "output_type": "stream",
     "text": [
      "25\n",
      "13\n",
      "3\n",
      "11\n",
      "0\n",
      "All good\n"
     ]
    }
   ],
   "source": [
    "#find transition probablities for bogey\n",
    "count_par=0\n",
    "count_bogey=0\n",
    "count_double=0\n",
    "count_bird=0\n",
    "count_eagle=0\n",
    "for i in range(0,8):\n",
    "    for j in range (0,17):\n",
    "        if(rivs_scores[i][j]==1):\n",
    "            if(rivs_scores[i][j+1]==0):\n",
    "                count_par+=1\n",
    "            elif(rivs_scores[i][j+1]==1):\n",
    "                count_bogey+=1\n",
    "            elif(rivs_scores[i][j+1]==2):\n",
    "                count_double+=1\n",
    "            elif(rivs_scores[i][j+1]==-1):\n",
    "                count_bird+=1\n",
    "            else:\n",
    "                count_eagle+=1\n",
    "                \n",
    "        if(W_scores[i][j]==1):\n",
    "            if(W_scores[i][j+1]==0):\n",
    "                count_par+=1\n",
    "            elif(W_scores[i][j+1]==1):\n",
    "                count_bogey+=1\n",
    "            elif(W_scores[i][j+1]==2):\n",
    "                count_double+=1\n",
    "            elif(W_scores[i][j+1]==-1):\n",
    "                count_bird+=1\n",
    "            else:\n",
    "                count_eagle+=1\n",
    "\n",
    "print(count_par)\n",
    "print(count_bogey)\n",
    "print(count_double)\n",
    "print(count_bird)\n",
    "print(count_eagle)\n",
    "if(count_par+count_bogey+count_double+count_bird+count_eagle ==52):\n",
    "    print(\"All good\")"
   ]
  },
  {
   "cell_type": "code",
   "execution_count": 24,
   "id": "963f1cb9",
   "metadata": {},
   "outputs": [
    {
     "name": "stdout",
     "output_type": "stream",
     "text": [
      "4\n",
      "0\n",
      "0\n",
      "0\n",
      "0\n",
      "All good\n"
     ]
    }
   ],
   "source": [
    "#find transition probablities for double\n",
    "count_par=0\n",
    "count_bogey=0\n",
    "count_double=0\n",
    "count_bird=0\n",
    "count_eagle=0\n",
    "for i in range(0,8):\n",
    "    for j in range (0,17):\n",
    "        if(rivs_scores[i][j]==2):\n",
    "            if(rivs_scores[i][j+1]==0):\n",
    "                count_par+=1\n",
    "            elif(rivs_scores[i][j+1]==1):\n",
    "                count_bogey+=1\n",
    "            elif(rivs_scores[i][j+1]==2):\n",
    "                count_double+=1\n",
    "            elif(rivs_scores[i][j+1]==-1):\n",
    "                count_bird+=1\n",
    "            else:\n",
    "                count_eagle+=1\n",
    "                \n",
    "        if(W_scores[i][j]==2):\n",
    "            if(W_scores[i][j+1]==0):\n",
    "                count_par+=1\n",
    "            elif(W_scores[i][j+1]==1):\n",
    "                count_bogey+=1\n",
    "            elif(W_scores[i][j+1]==2):\n",
    "                count_double+=1\n",
    "            elif(W_scores[i][j+1]==-1):\n",
    "                count_bird+=1\n",
    "            else:\n",
    "                count_eagle+=1\n",
    "\n",
    "print(count_par)\n",
    "print(count_bogey)\n",
    "print(count_double)\n",
    "print(count_bird)\n",
    "print(count_eagle)\n",
    "if(count_par+count_bogey+count_double+count_bird+count_eagle ==4):\n",
    "    print(\"All good\")"
   ]
  },
  {
   "cell_type": "code",
   "execution_count": 25,
   "id": "50e8f572",
   "metadata": {},
   "outputs": [
    {
     "name": "stdout",
     "output_type": "stream",
     "text": [
      "41\n",
      "11\n",
      "0\n",
      "8\n",
      "1\n",
      "All good\n"
     ]
    }
   ],
   "source": [
    "#find transition probablities for birdie\n",
    "count_par=0\n",
    "count_bogey=0\n",
    "count_double=0\n",
    "count_bird=0\n",
    "count_eagle=0\n",
    "for i in range(0,8):\n",
    "    for j in range (0,17):\n",
    "        if(rivs_scores[i][j]==-1):\n",
    "            if(rivs_scores[i][j+1]==0):\n",
    "                count_par+=1\n",
    "            elif(rivs_scores[i][j+1]==1):\n",
    "                count_bogey+=1\n",
    "            elif(rivs_scores[i][j+1]==2):\n",
    "                count_double+=1\n",
    "            elif(rivs_scores[i][j+1]==-1):\n",
    "                count_bird+=1\n",
    "            else:\n",
    "                count_eagle+=1\n",
    "                \n",
    "        if(W_scores[i][j]==-1):\n",
    "            if(W_scores[i][j+1]==0):\n",
    "                count_par+=1\n",
    "            elif(W_scores[i][j+1]==1):\n",
    "                count_bogey+=1\n",
    "            elif(W_scores[i][j+1]==2):\n",
    "                count_double+=1\n",
    "            elif(W_scores[i][j+1]==-1):\n",
    "                count_bird+=1\n",
    "            else:\n",
    "                count_eagle+=1\n",
    "\n",
    "print(count_par)\n",
    "print(count_bogey)\n",
    "print(count_double)\n",
    "print(count_bird)\n",
    "print(count_eagle)\n",
    "if(count_par+count_bogey+count_double+count_bird+count_eagle ==61):\n",
    "    print(\"All good\")"
   ]
  },
  {
   "cell_type": "code",
   "execution_count": 26,
   "id": "a60bc48e",
   "metadata": {},
   "outputs": [
    {
     "name": "stdout",
     "output_type": "stream",
     "text": [
      "0\n",
      "0\n",
      "0\n",
      "1\n",
      "0\n",
      "All good\n"
     ]
    }
   ],
   "source": [
    "#find transition probablities for eaglq\n",
    "count_par=0\n",
    "count_bogey=0\n",
    "count_double=0\n",
    "count_bird=0\n",
    "count_eagle=0\n",
    "for i in range(0,8):\n",
    "    for j in range (0,17):\n",
    "        if(rivs_scores[i][j]==-2):\n",
    "            if(rivs_scores[i][j+1]==0):\n",
    "                count_par+=1\n",
    "            elif(rivs_scores[i][j+1]==1):\n",
    "                count_bogey+=1\n",
    "            elif(rivs_scores[i][j+1]==2):\n",
    "                count_double+=1\n",
    "            elif(rivs_scores[i][j+1]==-1):\n",
    "                count_bird+=1\n",
    "            else:\n",
    "                count_eagle+=1\n",
    "                \n",
    "        if(W_scores[i][j]==-2):\n",
    "            if(W_scores[i][j+1]==0):\n",
    "                count_par+=1\n",
    "            elif(W_scores[i][j+1]==1):\n",
    "                count_bogey+=1\n",
    "            elif(W_scores[i][j+1]==2):\n",
    "                count_double+=1\n",
    "            elif(W_scores[i][j+1]==-1):\n",
    "                count_bird+=1\n",
    "            else:\n",
    "                count_eagle+=1\n",
    "\n",
    "print(count_par)\n",
    "print(count_bogey)\n",
    "print(count_double)\n",
    "print(count_bird)\n",
    "print(count_eagle)\n",
    "if(count_par+count_bogey+count_double+count_bird+count_eagle ==1):\n",
    "    print(\"All good\")"
   ]
  },
  {
   "cell_type": "code",
   "execution_count": 27,
   "id": "4d4831e9",
   "metadata": {},
   "outputs": [
    {
     "name": "stdout",
     "output_type": "stream",
     "text": [
      "{0: {0: 0.564935064935065, 1: 0.16883116883116883, 2: 0.006493506493506494, -1: 0.2597402597402597, -2: 0}, 1: {0: 0.4807692307692308, 1: 0.25, 2: 0.057692307692307696, -1: 0.21153846153846154, -2: 0}, 2: {0: 1}, -1: {0: 0.6721311475409836, 1: 0.18032786885245902, -1: 0.13114754098360656, -2: 0.01639344262295082}, -2: {-1: 1}}\n"
     ]
    }
   ],
   "source": [
    "transition_M={0:{0:87/154 , 1:26/154, 2:1/154, -1:40/154, -2:0},1:{0:25/52, 1:13/52, 2:3/52, -1:11/52, -2:0 },2:{0:1},-1:{0:41/61, 1:11/61, -1:8/61, -2:1/61},-2:{-1:1}}\n",
    "print(transition_M)"
   ]
  },
  {
   "cell_type": "code",
   "execution_count": 28,
   "id": "e9b6a27d",
   "metadata": {},
   "outputs": [
    {
     "name": "stdout",
     "output_type": "stream",
     "text": [
      "166\n",
      "55\n",
      "5\n",
      "61\n",
      "1\n",
      "All good\n"
     ]
    }
   ],
   "source": [
    "# Find the emission Matrix\n",
    "count_par=0\n",
    "count_bogey=0\n",
    "count_double=0\n",
    "count_bird=0\n",
    "count_eagle=0\n",
    "#start by getting total number of every score not on last hole\n",
    "for i in range(0,8):\n",
    "    for j in range (0,18):\n",
    "        if(rivs_scores[i][j]==0):\n",
    "            count_par+=1\n",
    "        elif(rivs_scores[i][j]==1):\n",
    "            count_bogey+=1\n",
    "        elif(rivs_scores[i][j]==2):\n",
    "            count_double+=1\n",
    "        elif(rivs_scores[i][j]==-1):\n",
    "            count_bird+=1\n",
    "        else:\n",
    "            count_eagle+=1\n",
    "\n",
    "        if(W_scores[i][j]==0):\n",
    "            count_par+=1\n",
    "        elif(W_scores[i][j]==1):\n",
    "            count_bogey+=1\n",
    "        elif(W_scores[i][j]==2):\n",
    "            count_double+=1\n",
    "        elif(W_scores[i][j]==-1):\n",
    "            count_bird+=1\n",
    "        else:\n",
    "            count_eagle+=1\n",
    "\n",
    "\n",
    "#should sum to 288 (16 * 18)\n",
    "print(count_par)\n",
    "print(count_bogey)\n",
    "print(count_double)\n",
    "print(count_bird)\n",
    "print(count_eagle)\n",
    "if(count_par+count_bogey+count_double+count_bird+count_eagle ==288):\n",
    "    print(\"All good\")"
   ]
  },
  {
   "cell_type": "code",
   "execution_count": 74,
   "id": "4391f649",
   "metadata": {},
   "outputs": [
    {
     "name": "stdout",
     "output_type": "stream",
     "text": [
      "65\n",
      "18\n",
      "20\n",
      "56\n",
      "7\n",
      "All good\n"
     ]
    }
   ],
   "source": [
    "#Find emission for par\n",
    "count_meh=0\n",
    "count_sarcastic=0\n",
    "count_bad=0\n",
    "count_good=0\n",
    "count_great=0\n",
    "for i in range(0,8):\n",
    "    for j in range (0,18):\n",
    "        if(rivs_scores[i][j]==0):\n",
    "            if(rivs_obs[i][j]==\"meh\"):\n",
    "                count_meh+=1\n",
    "            elif(rivs_obs[i][j]==\"sarcastic\"):\n",
    "                count_sarcastic+=1\n",
    "            elif(rivs_obs[i][j]==\"bad\"):\n",
    "                count_bad+=1\n",
    "            elif(rivs_obs[i][j]==\"good\"):\n",
    "                count_good+=1\n",
    "            elif(rivs_obs[i][j]==\"great\"):\n",
    "                count_great+=1\n",
    "            else:\n",
    "                print(\"two rivs error \" + str(i) + \" \" + str(j))\n",
    "                \n",
    "        if(W_scores[i][j]==0):\n",
    "            if(W_obs[i][j]==\"meh\"):\n",
    "                count_meh+=1\n",
    "            elif(W_obs[i][j]==\"sarcastic\"):\n",
    "                count_sarcastic+=1\n",
    "            elif(W_obs[i][j]==\"bad\"):\n",
    "                count_bad+=1\n",
    "            elif(W_obs[i][j]==\"good\"):\n",
    "                count_good+=1\n",
    "            elif(W_obs[i][j]==\"great\"):\n",
    "                count_great+=1\n",
    "            else:\n",
    "                print(\"W error \" + str(i) + \" \" + str(j)+ W_obs[i][j])\n",
    "print(count_meh)\n",
    "print(count_sarcastic)\n",
    "print(count_bad)\n",
    "print(count_good)\n",
    "print(count_great)\n",
    "if(count_meh+count_sarcastic+count_bad+count_good+count_great ==166):\n",
    "    print(\"All good\")"
   ]
  },
  {
   "cell_type": "code",
   "execution_count": 30,
   "id": "1d17f843",
   "metadata": {},
   "outputs": [
    {
     "name": "stdout",
     "output_type": "stream",
     "text": [
      "20\n",
      "8\n",
      "24\n",
      "3\n",
      "0\n",
      "All good\n"
     ]
    }
   ],
   "source": [
    "#Find emission for bogey\n",
    "count_meh=0\n",
    "count_sarcastic=0\n",
    "count_bad=0\n",
    "count_good=0\n",
    "count_great=0\n",
    "for i in range(0,8):\n",
    "    for j in range (0,18):\n",
    "        if(rivs_scores[i][j]==1):\n",
    "            if(rivs_obs[i][j]==\"meh\"):\n",
    "                count_meh+=1\n",
    "            elif(rivs_obs[i][j]==\"sarcastic\"):\n",
    "                count_sarcastic+=1\n",
    "            elif(rivs_obs[i][j]==\"bad\"):\n",
    "                count_bad+=1\n",
    "            elif(rivs_obs[i][j]==\"good\"):\n",
    "                count_good+=1\n",
    "            elif(rivs_obs[i][j]==\"great\"):\n",
    "                count_great+=1\n",
    "            else:\n",
    "                print(\"two rivs error \" + str(i) + \" \" + str(j))\n",
    "                \n",
    "        if(W_scores[i][j]==1):\n",
    "            if(W_obs[i][j]==\"meh\"):\n",
    "                count_meh+=1\n",
    "            elif(W_obs[i][j]==\"sarcastic\"):\n",
    "                count_sarcastic+=1\n",
    "            elif(W_obs[i][j]==\"bad\"):\n",
    "                count_bad+=1\n",
    "            elif(W_obs[i][j]==\"good\"):\n",
    "                count_good+=1\n",
    "            elif(W_obs[i][j]==\"great\"):\n",
    "                count_great+=1\n",
    "            else:\n",
    "                print(\"W error \" + str(i) + \" \" + str(j)+ W_obs[i][j])\n",
    "print(count_meh)\n",
    "print(count_sarcastic)\n",
    "print(count_bad)\n",
    "print(count_good)\n",
    "print(count_great)\n",
    "if(count_meh+count_sarcastic+count_bad+count_good+count_great ==55):\n",
    "    print(\"All good\")"
   ]
  },
  {
   "cell_type": "code",
   "execution_count": 31,
   "id": "f2504871",
   "metadata": {},
   "outputs": [
    {
     "name": "stdout",
     "output_type": "stream",
     "text": [
      "0\n",
      "0\n",
      "5\n",
      "0\n",
      "0\n",
      "All good\n"
     ]
    }
   ],
   "source": [
    "#Find emission for double\n",
    "count_meh=0\n",
    "count_sarcastic=0\n",
    "count_bad=0\n",
    "count_good=0\n",
    "count_great=0\n",
    "for i in range(0,8):\n",
    "    for j in range (0,18):\n",
    "        if(rivs_scores[i][j]==2):\n",
    "            if(rivs_obs[i][j]==\"meh\"):\n",
    "                count_meh+=1\n",
    "            elif(rivs_obs[i][j]==\"sarcastic\"):\n",
    "                count_sarcastic+=1\n",
    "            elif(rivs_obs[i][j]==\"bad\"):\n",
    "                count_bad+=1\n",
    "            elif(rivs_obs[i][j]==\"good\"):\n",
    "                count_good+=1\n",
    "            elif(rivs_obs[i][j]==\"great\"):\n",
    "                count_great+=1\n",
    "            else:\n",
    "                print(\"two rivs error \" + str(i) + \" \" + str(j))\n",
    "                \n",
    "        if(W_scores[i][j]==2):\n",
    "            if(W_obs[i][j]==\"meh\"):\n",
    "                count_meh+=1\n",
    "            elif(W_obs[i][j]==\"sarcastic\"):\n",
    "                count_sarcastic+=1\n",
    "            elif(W_obs[i][j]==\"bad\"):\n",
    "                count_bad+=1\n",
    "            elif(W_obs[i][j]==\"good\"):\n",
    "                count_good+=1\n",
    "            elif(W_obs[i][j]==\"great\"):\n",
    "                count_great+=1\n",
    "            else:\n",
    "                print(\"W error \" + str(i) + \" \" + str(j)+ W_obs[i][j])\n",
    "print(count_meh)\n",
    "print(count_sarcastic)\n",
    "print(count_bad)\n",
    "print(count_good)\n",
    "print(count_great)\n",
    "if(count_meh+count_sarcastic+count_bad+count_good+count_great ==5):\n",
    "    print(\"All good\")"
   ]
  },
  {
   "cell_type": "code",
   "execution_count": 32,
   "id": "5593ac24",
   "metadata": {},
   "outputs": [
    {
     "name": "stdout",
     "output_type": "stream",
     "text": [
      "19\n",
      "0\n",
      "1\n",
      "28\n",
      "13\n",
      "All good\n"
     ]
    }
   ],
   "source": [
    "#Find emission for birdie\n",
    "count_meh=0\n",
    "count_sarcastic=0\n",
    "count_bad=0\n",
    "count_good=0\n",
    "count_great=0\n",
    "for i in range(0,8):\n",
    "    for j in range (0,18):\n",
    "        if(rivs_scores[i][j]==-1):\n",
    "            if(rivs_obs[i][j]==\"meh\"):\n",
    "                count_meh+=1\n",
    "            elif(rivs_obs[i][j]==\"sarcastic\"):\n",
    "                count_sarcastic+=1\n",
    "            elif(rivs_obs[i][j]==\"bad\"):\n",
    "                count_bad+=1\n",
    "            elif(rivs_obs[i][j]==\"good\"):\n",
    "                count_good+=1\n",
    "            elif(rivs_obs[i][j]==\"great\"):\n",
    "                count_great+=1\n",
    "            else:\n",
    "                print(\"two rivs error \" + str(i) + \" \" + str(j))\n",
    "                \n",
    "        if(W_scores[i][j]==-1):\n",
    "            if(W_obs[i][j]==\"meh\"):\n",
    "                count_meh+=1\n",
    "            elif(W_obs[i][j]==\"sarcastic\"):\n",
    "                count_sarcastic+=1\n",
    "            elif(W_obs[i][j]==\"bad\"):\n",
    "                count_bad+=1\n",
    "            elif(W_obs[i][j]==\"good\"):\n",
    "                count_good+=1\n",
    "            elif(W_obs[i][j]==\"great\"):\n",
    "                count_great+=1\n",
    "            else:\n",
    "                print(\"W error \" + str(i) + \" \" + str(j)+ W_obs[i][j])\n",
    "print(count_meh)\n",
    "print(count_sarcastic)\n",
    "print(count_bad)\n",
    "print(count_good)\n",
    "print(count_great)\n",
    "if(count_meh+count_sarcastic+count_bad+count_good+count_great ==61):\n",
    "    print(\"All good\")"
   ]
  },
  {
   "cell_type": "code",
   "execution_count": 33,
   "id": "89da8541",
   "metadata": {},
   "outputs": [
    {
     "name": "stdout",
     "output_type": "stream",
     "text": [
      "0\n",
      "0\n",
      "0\n",
      "0\n",
      "1\n",
      "All good\n"
     ]
    }
   ],
   "source": [
    "#Find emission for eagle\n",
    "count_meh=0\n",
    "count_sarcastic=0\n",
    "count_bad=0\n",
    "count_good=0\n",
    "count_great=0\n",
    "for i in range(0,8):\n",
    "    for j in range (0,18):\n",
    "        if(rivs_scores[i][j]==-2):\n",
    "            if(rivs_obs[i][j]==\"meh\"):\n",
    "                count_meh+=1\n",
    "            elif(rivs_obs[i][j]==\"sarcastic\"):\n",
    "                count_sarcastic+=1\n",
    "            elif(rivs_obs[i][j]==\"bad\"):\n",
    "                count_bad+=1\n",
    "            elif(rivs_obs[i][j]==\"good\"):\n",
    "                count_good+=1\n",
    "            elif(rivs_obs[i][j]==\"great\"):\n",
    "                count_great+=1\n",
    "            else:\n",
    "                print(\"two rivs error \" + str(i) + \" \" + str(j))\n",
    "                \n",
    "        if(W_scores[i][j]==-2):\n",
    "            if(W_obs[i][j]==\"meh\"):\n",
    "                count_meh+=1\n",
    "            elif(W_obs[i][j]==\"sarcastic\"):\n",
    "                count_sarcastic+=1\n",
    "            elif(W_obs[i][j]==\"bad\"):\n",
    "                count_bad+=1\n",
    "            elif(W_obs[i][j]==\"good\"):\n",
    "                count_good+=1\n",
    "            elif(W_obs[i][j]==\"great\"):\n",
    "                count_great+=1\n",
    "            else:\n",
    "                print(\"W error \" + str(i) + \" \" + str(j)+ W_obs[i][j])\n",
    "print(count_meh)\n",
    "print(count_sarcastic)\n",
    "print(count_bad)\n",
    "print(count_good)\n",
    "print(count_great)\n",
    "if(count_meh+count_sarcastic+count_bad+count_good+count_great ==1):\n",
    "    print(\"All good\")"
   ]
  },
  {
   "cell_type": "code",
   "execution_count": 36,
   "id": "981583e2",
   "metadata": {},
   "outputs": [
    {
     "name": "stdout",
     "output_type": "stream",
     "text": [
      "{0: {'meh': 0.39156626506024095, 'sarcastic': 0.10843373493975904, 'bad': 0.12048192771084337, 'good': 0.3373493975903614, 'great': 0.04216867469879518}, 1: {'meh': 0.36363636363636365, 'sarcastic': 0.14545454545454545, 'bad': 0.43636363636363634, 'good': 0.05454545454545454}, 2: {'bad': 1}, -1: {'meh': 0.3114754098360656, 'bad': 0.01639344262295082, 'good': 0.45901639344262296, 'great': 0.21311475409836064}, -2: {'great': 1}}\n"
     ]
    }
   ],
   "source": [
    "emmision_M={0:{\"meh\":65/166, \"sarcastic\":18/166, \"bad\":20/166, \"good\":56/166, \"great\":7/166}, 1:{\"meh\":20/55, \"sarcastic\":8/55, \"bad\":24/55, \"good\":3/55}, 2:{\"bad\":1}, -1:{\"meh\":19/61,\"bad\":1/61, \"good\":28/61,\"great\":13/61}, -2:{\"great\":1}}\n",
    "print(emmision_M)"
   ]
  },
  {
   "cell_type": "code",
   "execution_count": 1,
   "id": "bdf9006b",
   "metadata": {},
   "outputs": [
    {
     "name": "stdout",
     "output_type": "stream",
     "text": [
      "{0: {'meh': 0.392, 'sarcastic': 0.108, 'bad': 0.12, 'good': 0.337, 'great': 0.042}, 1: {'meh': 0.364, 'sarcastic': 0.145, 'bad': 0.436, 'good': 0.055, 'great': 0}, 2: {'meh': 0, 'sarcastic': 0, 'bad': 1, 'good': 0, 'great': 0}, -1: {'meh': 0.311, 'sarcastic': 0, 'bad': 0.016, 'good': 0.459, 'great': 0.213}, -2: {'meh': 0, 'sarcastic': 0, 'bad': 0, 'good': 0, 'great': 1}}\n"
     ]
    }
   ],
   "source": [
    "print({0:{\"meh\":.392, \"sarcastic\":.108, \"bad\":.120, \"good\":.337, \"great\":.042}, 1:{\"meh\":.364, \"sarcastic\":.145, \"bad\":.436, \"good\":.055, \"great\":0}, 2:{\"meh\":0,\"sarcastic\":0,\"bad\":1,\"good\":0,\"great\":0}, -1:{\"meh\":.311,\"sarcastic\":0,\"bad\":.016, \"good\":.459,\"great\":.213}, -2:{\"meh\":0,\"sarcastic\":0,\"bad\":0, \"good\":0,\"great\":1}})\n",
    "\n"
   ]
  },
  {
   "cell_type": "code",
   "execution_count": 50,
   "id": "32f303d9",
   "metadata": {},
   "outputs": [],
   "source": [
    "obs = (\"normal\", \"cold\", \"dizzy\", \"normal\")\n",
    "states = (\"Healthy\", \"Fever\")\n",
    "start_p = {\"Healthy\": 0.6, \"Fever\": 0.4}\n",
    "trans_p = {\n",
    "    \"Healthy\": {\"Healthy\": 0.7, \"Fever\": 0.3},\n",
    "    \"Fever\": {\"Healthy\": 0.4, \"Fever\": 0.6},\n",
    "}\n",
    "emit_p = {\n",
    "    \"Healthy\": {\"normal\": 0.5, \"cold\": 0.4, \"dizzy\": 0.1},\n",
    "    \"Fever\": {\"normal\": 0.1, \"cold\": 0.3, \"dizzy\": 0.6},\n",
    "}"
   ]
  },
  {
   "cell_type": "code",
   "execution_count": 7,
   "id": "cb5171d6",
   "metadata": {},
   "outputs": [],
   "source": [
    "#https://en.wikipedia.org/wiki/Viterbi_algorithm\n",
    "def viterbi(obs, states, start_p, trans_p, emit_p):\n",
    "    V = [{}]\n",
    "    for st in states:\n",
    "        V[0] [st] = {\"prob\": start_p[st] * emit_p[st] [obs[0]], \"prev\": None}\n",
    "    # Run Viterbi when t > 0\n",
    "    for t in range(1, len(obs)):\n",
    "        V.append({})\n",
    "        for st in states:\n",
    "            max_tr_prob = V[t - 1] [states[0]] [\"prob\"] * trans_p[states[0]] [st] * emit_p[st] [obs[t]]\n",
    "            prev_st_selected = states[0]\n",
    "            for prev_st in states[1:]:\n",
    "                tr_prob = V[t - 1] [prev_st] [\"prob\"] * trans_p[prev_st] [st] * emit_p[st] [obs[t]]\n",
    "                if tr_prob > max_tr_prob:\n",
    "                    max_tr_prob = tr_prob\n",
    "                    prev_st_selected = prev_st\n",
    "\n",
    "            max_prob = max_tr_prob\n",
    "            V[t] [st] = {\"prob\": max_prob, \"prev\": prev_st_selected}\n",
    "    for line in dptable(V):\n",
    "        print(line)\n",
    "\n",
    "    opt = []\n",
    "    max_prob = 0.0\n",
    "    best_st = None\n",
    "    # Get most probable state and its backtrack\n",
    "    for st, data in V[-1].items():\n",
    "        if data[\"prob\"] > max_prob:\n",
    "            max_prob = data[\"prob\"]\n",
    "            best_st = st\n",
    "    opt.append(best_st)\n",
    "    previous = best_st\n",
    "    # Follow the backtrack till the first observation\n",
    "    for t in range(len(V) - 2, -1, -1):\n",
    "        opt.insert(0, V[t + 1] [previous] [\"prev\"])\n",
    "        previous = V[t + 1] [previous] [\"prev\"]\n",
    "\n",
    "    print (\"The steps of states are \" + \" \".join(opt) + \" with highest probability of %s\" % max_prob)\n",
    "\n",
    "def dptable(V):\n",
    "    # Print a table of steps from dictionary\n",
    "    yield \" \" * 5 + \"     \".join((\"%3d\" % i) for i in range(len(V)))\n",
    "    for state in V[0]:\n",
    "        yield \"%.7s: \" % state + \" \".join(\"%.7s\" % (\"%lf\" % v[state] [\"prob\"]) for v in V)"
   ]
  },
  {
   "cell_type": "code",
   "execution_count": 8,
   "id": "c2ccf204",
   "metadata": {},
   "outputs": [],
   "source": [
    "states = (\"2\", \"1\",\"0\",\"-1\",\"-2\")\n",
    "start_p = {\"0\": 0.5625, \"1\": 0.3125, \"2\": 0.0625, \"-1\": 0.0625, \"-2\": 0.0}\n",
    "trans_p = {\"0\": {\"0\": 0.564935064935065, \"1\": 0.16883116883116883, \"2\": 0.006493506493506494, \"-1\": 0.2597402597402597, \"-2\":0.0}, \n",
    " \"1\": {\"0\": 0.4807692307692308, \"1\": 0.25, \"2\": 0.057692307692307696, \"-1\": 0.21153846153846154, \"-2\":0.0}, \n",
    " \"2\": {\"0\": 1,\"1\":0.0,\"2\":0.0, \"-1\":0.0, \"-2\":0.0}, \n",
    " \"-1\": {\"0\": 0.6721311475409836, \"1\": 0.18032786885245902, \"2\":0.0, \"-1\": 0.13114754098360656, \"-2\": 0.01639344262295082},\n",
    " \"-2\": {\"0\":0.0, \"1\":0.0, \"2\":0.0 ,\"-1\": 1, \"-2\":0.0}}\n",
    "emit_p = {\"0\":{\"meh\":65/166, \"sarcastic\":18/166, \"bad\":20/166, \"good\":56/166, \"great\":7/166},\n",
    " \"1\":{\"meh\":20/55, \"sarcastic\":8/55, \"bad\":24/55, \"good\":3/55, \"great\":0}, \n",
    " \"2\":{\"meh\":0, \"sarcastic\":0.0, \"bad\":1, \"good\":0.0, \"great\":0.0}, \n",
    " \"-1\":{\"meh\":19/61,\"sarcastic\":0.0,\"bad\":1/61, \"good\":28/61,\"great\":13/61}, \n",
    " \"-2\":{\"meh\":0.0,\"sarcastic\":0.0,\"bad\":0.0,\"good\":0, \"great\":1}}\n"
   ]
  },
  {
   "cell_type": "code",
   "execution_count": 9,
   "id": "fd323e52",
   "metadata": {},
   "outputs": [
    {
     "name": "stdout",
     "output_type": "stream",
     "text": [
      "       0       1       2       3       4       5       6       7       8       9      10      11      12      13      14      15      16      17\n",
      "2: 0.00000 0.00000 0.00000 0.00000 0.00000 0.00000 0.00000 0.00000 0.00000 0.00000 0.00000 0.00000 0.00000 0.00000 0.00000 0.00000 0.00000 0.00000\n",
      "1: 0.01704 0.00000 0.00010 0.00002 0.00001 0.00000 0.00000 0.00000 0.00000 0.00000 0.00000 0.00000 0.00000 0.00000 0.00000 0.00000 0.00000 0.00000\n",
      "0: 0.18975 0.00452 0.00238 0.00045 0.00002 0.00000 0.00000 0.00000 0.00000 0.00000 0.00000 0.00000 0.00000 0.00000 0.00000 0.00000 0.00000 0.00000\n",
      "-1: 0.02868 0.01050 0.00063 0.00028 0.00000 0.00000 0.00000 0.00000 0.00000 0.00000 0.00000 0.00000 0.00000 0.00000 0.00000 0.00000 0.00000 0.00000\n",
      "-2: 0.00000 0.00047 0.00000 0.00000 0.00000 0.00000 0.00000 0.00000 0.00000 0.00000 0.00000 0.00000 0.00000 0.00000 0.00000 0.00000 0.00000 0.00000\n",
      "The steps of states are 0 -1 0 0 0 -1 0 0 0 -1 -1 0 0 0 0 0 0 0 with highest probability of 2.5269751372459498e-18\n"
     ]
    }
   ],
   "source": [
    "# At W\n",
    "obs = (\"good\", \"great\", \"good\", \"good\", \"sarcastic\",\"great\",\"good\",\"good\",\"sarcastic\", \"great\", \"great\", \"bad\",\"good\", \"good\", \"good\", \"sarcastic\",\"sarcastic\",\"good\")\n",
    "# scores (0,0,0,-1,0,-1,-1,0,1, -1,-1,1,0,0,0,0,0,0)\n",
    "viterbi(obs,states,start_p, trans_p,emit_p)\n",
    "#real score of -3, guess of -4"
   ]
  },
  {
   "cell_type": "code",
   "execution_count": 10,
   "id": "48d81d60",
   "metadata": {},
   "outputs": [
    {
     "name": "stdout",
     "output_type": "stream",
     "text": [
      "       0       1       2       3       4       5       6       7       8       9      10      11      12      13      14      15      16      17\n",
      "2: 0.00000 0.00123 0.00000 0.00000 0.00000 0.00000 0.00000 0.00000 0.00000 0.00000 0.00000 0.00000 0.00000 0.00000 0.00000 0.00000 0.00000 0.00000\n",
      "1: 0.01704 0.01398 0.00050 0.00001 0.00000 0.00000 0.00000 0.00000 0.00000 0.00000 0.00000 0.00000 0.00000 0.00000 0.00000 0.00000 0.00000 0.00000\n",
      "0: 0.18975 0.01291 0.00079 0.00004 0.00000 0.00000 0.00000 0.00000 0.00000 0.00000 0.00000 0.00000 0.00000 0.00000 0.00000 0.00000 0.00000 0.00000\n",
      "-1: 0.02868 0.00080 0.00000 0.00000 0.00000 0.00000 0.00000 0.00000 0.00000 0.00000 0.00000 0.00000 0.00000 0.00000 0.00000 0.00000 0.00000 0.00000\n",
      "-2: 0.00000 0.00000 0.00000 0.00000 0.00000 0.00000 0.00000 0.00000 0.00000 0.00000 0.00000 0.00000 0.00000 0.00000 0.00000 0.00000 0.00000 0.00000\n",
      "The steps of states are 0 0 0 0 0 1 2 0 0 -1 0 0 0 0 0 1 1 1 with highest probability of 4.4900178286754114e-20\n"
     ]
    }
   ],
   "source": [
    "# At New Kent\n",
    "#real score of 8, guess of 5\n",
    "obs = (\"good\", \"bad\", \"sarcastic\", \"sarcastic\", \"sarcastic\",\"bad\",\"bad\",\"sarcastic\", \"good\", \"great\", \"good\",\"sarcastic\",\"bad\", \"sarcastic\", \"sarcastic\", \"bad\",\"bad\",\"bad\")\n",
    "#(0,1,0,0,0,1,0,0,0,-1,0,1,1,0,0,1,2,2)\n",
    "viterbi(obs,states,start_p, trans_p,emit_p)"
   ]
  },
  {
   "cell_type": "code",
   "execution_count": 11,
   "id": "48708c47",
   "metadata": {},
   "outputs": [
    {
     "name": "stdout",
     "output_type": "stream",
     "text": [
      "       0       1       2       3       4       5       6       7       8       9      10      11      12      13      14      15      16      17\n",
      "2: 0.00000 0.00000 0.00000 0.00014 0.00000 0.00000 0.00000 0.00000 0.00000 0.00000 0.00000 0.00000 0.00000 0.00000 0.00000 0.00000 0.00000 0.00000\n",
      "1: 0.01704 0.01165 0.00257 0.00068 0.00000 0.00000 0.00000 0.00000 0.00000 0.00000 0.00000 0.00000 0.00000 0.00000 0.00000 0.00000 0.00000 0.00000\n",
      "0: 0.18975 0.04197 0.00928 0.00063 0.00012 0.00002 0.00000 0.00000 0.00000 0.00000 0.00000 0.00000 0.00000 0.00000 0.00000 0.00000 0.00000 0.00000\n",
      "-1: 0.02868 0.01535 0.00339 0.00004 0.00007 0.00001 0.00000 0.00000 0.00000 0.00000 0.00000 0.00000 0.00000 0.00000 0.00000 0.00000 0.00000 0.00000\n",
      "-2: 0.00000 0.00000 0.00000 0.00000 0.00000 0.00000 0.00000 0.00000 0.00000 0.00000 0.00000 0.00000 0.00000 0.00000 0.00000 0.00000 0.00000 0.00000\n",
      "The steps of states are 0 0 0 0 0 0 0 0 0 0 0 0 0 1 2 0 0 0 with highest probability of 3.557103220390945e-15\n"
     ]
    }
   ],
   "source": [
    "# At W club\n",
    "obs = (\"good\",\"meh\",\"meh\",\"bad\",\"good\",\"good\", \"good\",\"meh\",\"meh\",\"sarcastic\",\"meh\", \"meh\",\"meh\",\"bad\", \"bad\", \"meh\", \"bad\",\"meh\" )\n",
    "#real score (0,1,0,0,-1,0,-1,0,0,1,0,0,0,1,0,0,1,0,)\n",
    "viterbi(obs,states,start_p, trans_p,emit_p)\n",
    "#real score 2, guess of 3 "
   ]
  },
  {
   "cell_type": "code",
   "execution_count": 12,
   "id": "616ddf43",
   "metadata": {},
   "outputs": [
    {
     "name": "stdout",
     "output_type": "stream",
     "text": [
      "       0       1       2       3       4       5       6       7       8       9      10      11      12      13      14      15      16      17\n",
      "2: 0.00000 0.00000 0.00000 0.00000 0.00000 0.00000 0.00000 0.00000 0.00000 0.00000 0.00000 0.00000 0.00000 0.00000 0.00000 0.00000 0.00000 0.00000\n",
      "1: 0.01704 0.00174 0.00000 0.00013 0.00003 0.00000 0.00000 0.00000 0.00000 0.00000 0.00000 0.00000 0.00000 0.00000 0.00000 0.00000 0.00000 0.00000\n",
      "0: 0.18975 0.03616 0.00086 0.00052 0.00011 0.00000 0.00000 0.00000 0.00000 0.00000 0.00000 0.00000 0.00000 0.00000 0.00000 0.00000 0.00000 0.00000\n",
      "-1: 0.02868 0.02262 0.00200 0.00011 0.00004 0.00000 0.00000 0.00000 0.00000 0.00000 0.00000 0.00000 0.00000 0.00000 0.00000 0.00000 0.00000 0.00000\n",
      "-2: 0.00000 0.00000 0.00037 0.00000 0.00000 0.00000 0.00000 0.00000 0.00000 0.00000 0.00000 0.00000 0.00000 0.00000 0.00000 0.00000 0.00000 0.00000\n",
      "The steps of states are 0 0 -1 0 0 0 0 0 0 0 0 0 0 0 0 0 0 0 with highest probability of 3.920627888663088e-16\n"
     ]
    }
   ],
   "source": [
    "# At 2-rivs\n",
    "obs=(\"good\",\"good\",\"great\", \"meh\", \"meh\", \"sarcastic\", \"meh\", \"sarcastic\", \"good\", \"meh\", \"good\", \"bad\", \"sarcastic\", \"good\",\"meh\",\"meh\", \"bad\",\"good\")\n",
    "viterbi(obs,states,start_p, trans_p,emit_p)\n",
    "#(0,-1,-1,1,0,0,0,0,-1,0,0,1,1,-1,0,0,1,-1)\n",
    "#real score of -1, guess -1"
   ]
  },
  {
   "cell_type": "code",
   "execution_count": 18,
   "id": "abcda71f",
   "metadata": {},
   "outputs": [],
   "source": [
    "##Laplace Smoothing Experiment\n",
    "\n",
    "start_p = {\"0\": 0.55125, \"1\": 0.30625, \"2\": 0.06125, \"-1\": 0.06125, \"-2\": 0.02}\n",
    "trans_p = {\n",
    " \"0\": {\"0\": 0.564, \"1\": 0.168, \"2\": 0.006493506493506494, \"-1\": 0.259, \"-2\":0.002}, \n",
    " \"1\": {\"0\": 0.48, \"1\": 0.24, \"2\": 0.057, \"-1\": 0.211, \"-2\":0.012}, \n",
    " \"2\": {\"0\": 5/9,\"1\":6/36,\"2\":1/36, \"-1\":8/36, \"-2\":1/36}, \n",
    " \"-1\": {\"0\": 0.67, \"1\": 0.18, \"2\":0.007, \"-1\": 0.13, \"-2\": 0.016},\n",
    " \"-2\": {\"0\":8/36, \"1\":6/36, \"2\":1/36 ,\"-1\": 5/9, \"-2\":1/36}}\n",
    "emit_p = {\n",
    " \"0\":{\"meh\":65/166, \"sarcastic\":18/166, \"bad\":20/166, \"good\":56/166, \"great\":7/166},\n",
    " \"1\":{\"meh\":20/55, \"sarcastic\":8/55, \"bad\":24/55, \"good\":3/55, \"great\":0}, \n",
    " \"2\":{\"meh\":0, \"sarcastic\":0.0, \"bad\":1, \"good\":0.0, \"great\":0.0}, \n",
    " \"-1\":{\"meh\":19/61,\"sarcastic\":0.0,\"bad\":1/61, \"good\":28/61,\"great\":13/61}, \n",
    " \"-2\":{\"meh\":0.0,\"sarcastic\":0.0,\"bad\":0.0,\"good\":0, \"great\":1}}"
   ]
  },
  {
   "cell_type": "code",
   "execution_count": 19,
   "id": "55d8578f",
   "metadata": {},
   "outputs": [
    {
     "name": "stdout",
     "output_type": "stream",
     "text": [
      "       0       1       2       3       4       5       6       7       8       9      10      11      12      13      14      15      16      17\n",
      "2: 0.00000 0.00000 0.00000 0.00000 0.00000 0.00000 0.00000 0.00000 0.00000 0.00000 0.00000 0.00000 0.00000 0.00000 0.00000 0.00000 0.00000 0.00000\n",
      "1: 0.01670 0.00000 0.00010 0.00002 0.00001 0.00000 0.00000 0.00000 0.00000 0.00000 0.00000 0.00000 0.00000 0.00000 0.00000 0.00000 0.00000 0.00000\n",
      "0: 0.18596 0.00442 0.00232 0.00044 0.00002 0.00000 0.00000 0.00000 0.00000 0.00000 0.00000 0.00000 0.00000 0.00000 0.00000 0.00000 0.00000 0.00000\n",
      "-1: 0.02811 0.01026 0.00061 0.00027 0.00000 0.00000 0.00000 0.00000 0.00000 0.00000 0.00000 0.00000 0.00000 0.00000 0.00000 0.00000 0.00000 0.00000\n",
      "-2: 0.00000 0.00045 0.00000 0.00000 0.00000 0.00000 0.00000 0.00000 0.00000 0.00000 0.00000 0.00000 0.00000 0.00000 0.00000 0.00000 0.00000 0.00000\n",
      "The steps of states are 0 -1 0 0 0 -1 0 0 0 -1 -1 0 0 0 0 0 0 0 with highest probability of 2.371154161499895e-18\n"
     ]
    }
   ],
   "source": [
    "# At W\n",
    "obs = (\"good\", \"great\", \"good\", \"good\", \"sarcastic\",\"great\",\"good\",\"good\",\"sarcastic\", \"great\", \"great\", \"bad\",\"good\", \"good\", \"good\", \"sarcastic\",\"sarcastic\",\"good\")\n",
    "# scores (0,0,0,-1,0,-1,-1,0,1, -1,-1,1,0,0,0,0,0,0)\n",
    "viterbi(obs,states,start_p, trans_p,emit_p)\n",
    "#real score of -3, guess of -4"
   ]
  },
  {
   "cell_type": "code",
   "execution_count": 20,
   "id": "cd7e45fc",
   "metadata": {},
   "outputs": [
    {
     "name": "stdout",
     "output_type": "stream",
     "text": [
      "       0       1       2       3       4       5       6       7       8       9      10      11      12      13      14      15      16      17\n",
      "2: 0.00000 0.00120 0.00000 0.00000 0.00000 0.00000 0.00000 0.00000 0.00000 0.00000 0.00000 0.00000 0.00000 0.00000 0.00000 0.00000 0.00000 0.00000\n",
      "1: 0.01670 0.01363 0.00047 0.00001 0.00000 0.00000 0.00000 0.00000 0.00000 0.00000 0.00000 0.00000 0.00000 0.00000 0.00000 0.00000 0.00000 0.00000\n",
      "0: 0.18596 0.01263 0.00077 0.00004 0.00000 0.00000 0.00000 0.00000 0.00000 0.00000 0.00000 0.00000 0.00000 0.00000 0.00000 0.00000 0.00000 0.00000\n",
      "-1: 0.02811 0.00079 0.00000 0.00000 0.00000 0.00000 0.00000 0.00000 0.00000 0.00000 0.00000 0.00000 0.00000 0.00000 0.00000 0.00000 0.00000 0.00000\n",
      "-2: 0.00000 0.00000 0.00000 0.00000 0.00000 0.00000 0.00000 0.00000 0.00000 0.00000 0.00000 0.00000 0.00000 0.00000 0.00000 0.00000 0.00000 0.00000\n",
      "The steps of states are 0 0 0 0 0 1 1 0 0 -1 0 0 0 0 0 1 1 1 with highest probability of 3.426253254266862e-20\n"
     ]
    }
   ],
   "source": [
    "# At New Kent\n",
    "#real score of 8, guess of 4\n",
    "obs = (\"good\", \"bad\", \"sarcastic\", \"sarcastic\", \"sarcastic\",\"bad\",\"bad\",\"sarcastic\", \"good\", \"great\", \"good\",\"sarcastic\",\"bad\", \"sarcastic\", \"sarcastic\", \"bad\",\"bad\",\"bad\")\n",
    "#(0,1,0,0,0,1,0,0,0,-1,0,1,1,0,0,1,2,2)\n",
    "viterbi(obs,states,start_p, trans_p,emit_p)"
   ]
  },
  {
   "cell_type": "code",
   "execution_count": 21,
   "id": "e595b927",
   "metadata": {},
   "outputs": [
    {
     "name": "stdout",
     "output_type": "stream",
     "text": [
      "       0       1       2       3       4       5       6       7       8       9      10      11      12      13      14      15      16      17\n",
      "2: 0.00000 0.00000 0.00000 0.00014 0.00000 0.00000 0.00000 0.00000 0.00000 0.00000 0.00000 0.00000 0.00000 0.00000 0.00000 0.00000 0.00000 0.00000\n",
      "1: 0.01670 0.01136 0.00250 0.00066 0.00000 0.00000 0.00000 0.00000 0.00000 0.00000 0.00000 0.00000 0.00000 0.00000 0.00000 0.00000 0.00000 0.00000\n",
      "0: 0.18596 0.04106 0.00907 0.00061 0.00011 0.00002 0.00000 0.00000 0.00000 0.00000 0.00000 0.00000 0.00000 0.00000 0.00000 0.00000 0.00000 0.00000\n",
      "-1: 0.02811 0.01500 0.00331 0.00003 0.00007 0.00001 0.00000 0.00000 0.00000 0.00000 0.00000 0.00000 0.00000 0.00000 0.00000 0.00000 0.00000 0.00000\n",
      "-2: 0.00000 0.00000 0.00000 0.00000 0.00000 0.00000 0.00000 0.00000 0.00000 0.00000 0.00000 0.00000 0.00000 0.00000 0.00000 0.00000 0.00000 0.00000\n",
      "The steps of states are 0 0 0 0 0 0 0 0 0 0 0 0 0 1 1 0 0 0 with highest probability of 2.953182791582881e-15\n"
     ]
    }
   ],
   "source": [
    "# At W club\n",
    "obs = (\"good\",\"meh\",\"meh\",\"bad\",\"good\",\"good\", \"good\",\"meh\",\"meh\",\"sarcastic\",\"meh\", \"meh\",\"meh\",\"bad\", \"bad\", \"meh\", \"bad\",\"meh\" )\n",
    "#real score (0,1,0,0,-1,0,-1,0,0,1,0,0,0,1,0,0,1,0,)\n",
    "viterbi(obs,states,start_p, trans_p,emit_p)\n",
    "#real score 2, guess of 2 "
   ]
  },
  {
   "cell_type": "code",
   "execution_count": 22,
   "id": "0c8300cc",
   "metadata": {},
   "outputs": [
    {
     "name": "stdout",
     "output_type": "stream",
     "text": [
      "       0       1       2       3       4       5       6       7       8       9      10      11      12      13      14      15      16      17\n",
      "2: 0.00000 0.00000 0.00000 0.00000 0.00000 0.00000 0.00000 0.00000 0.00000 0.00000 0.00000 0.00000 0.00000 0.00000 0.00000 0.00000 0.00000 0.00000\n",
      "1: 0.01670 0.00170 0.00000 0.00012 0.00003 0.00000 0.00000 0.00000 0.00000 0.00000 0.00000 0.00000 0.00000 0.00000 0.00000 0.00000 0.00000 0.00000\n",
      "0: 0.18596 0.03538 0.00084 0.00051 0.00011 0.00000 0.00000 0.00000 0.00000 0.00000 0.00000 0.00000 0.00000 0.00000 0.00000 0.00000 0.00000 0.00000\n",
      "-1: 0.02811 0.02210 0.00195 0.00007 0.00004 0.00000 0.00000 0.00000 0.00000 0.00000 0.00000 0.00000 0.00000 0.00000 0.00000 0.00000 0.00000 0.00000\n",
      "-2: 0.00000 0.00000 0.00035 0.00000 0.00000 0.00000 0.00000 0.00000 0.00000 0.00000 0.00000 0.00000 0.00000 0.00000 0.00000 0.00000 0.00000 0.00000\n",
      "The steps of states are 0 0 -1 0 0 0 0 0 0 0 0 0 0 0 0 0 0 0 with highest probability of 3.725388401857531e-16\n"
     ]
    }
   ],
   "source": [
    "# At 2-rivs\n",
    "obs=(\"good\",\"good\",\"great\", \"meh\", \"meh\", \"sarcastic\", \"meh\", \"sarcastic\", \"good\", \"meh\", \"good\", \"bad\", \"sarcastic\", \"good\",\"meh\",\"meh\", \"bad\",\"good\")\n",
    "viterbi(obs,states,start_p, trans_p,emit_p)\n",
    "#(0,-1,-1,1,0,0,0,0,-1,0,0,1,1,-1,0,0,1,-1)\n",
    "#real score of -1, guess -1"
   ]
  },
  {
   "cell_type": "code",
   "execution_count": null,
   "id": "029b7b5c",
   "metadata": {},
   "outputs": [],
   "source": []
  },
  {
   "cell_type": "code",
   "execution_count": null,
   "id": "70a490f7",
   "metadata": {},
   "outputs": [],
   "source": [
    "###Stochastic Gradient Descent\n"
   ]
  }
 ],
 "metadata": {
  "kernelspec": {
   "display_name": "Python 3 (ipykernel)",
   "language": "python",
   "name": "python3"
  },
  "language_info": {
   "codemirror_mode": {
    "name": "ipython",
    "version": 3
   },
   "file_extension": ".py",
   "mimetype": "text/x-python",
   "name": "python",
   "nbconvert_exporter": "python",
   "pygments_lexer": "ipython3",
   "version": "3.9.7"
  }
 },
 "nbformat": 4,
 "nbformat_minor": 5
}
